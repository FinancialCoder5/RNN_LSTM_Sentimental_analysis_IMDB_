{
  "nbformat": 4,
  "nbformat_minor": 0,
  "metadata": {
    "colab": {
      "name": "sentimental_analysis.ipynb",
      "provenance": [],
      "collapsed_sections": []
    },
    "kernelspec": {
      "name": "python3",
      "display_name": "Python 3"
    },
    "language_info": {
      "name": "python"
    }
  },
  "cells": [
    {
      "cell_type": "code",
      "metadata": {
        "colab": {
          "base_uri": "https://localhost:8080/"
        },
        "id": "BPq0Ac72djXh",
        "outputId": "2cc49965-d673-40c9-b288-ec9559962bbe"
      },
      "source": [
        "from keras.layers import Embedding\n",
        "from keras.models import Sequential\n",
        "from keras.datasets import imdb\n",
        "import keras as K\n",
        "import numpy as np\n",
        "\n",
        "max_words = 20000\n",
        "\n",
        "(train_x, train_y), (test_x, test_y) = imdb.load_data(num_words=max_words)\n",
        "\n",
        "max_review_length = 80\n",
        "train_x = K.preprocessing.sequence.pad_sequences(train_x, truncating='pre', padding='pre', maxlen=max_review_length)\n",
        "test_x = K.preprocessing.sequence.pad_sequences(test_x, truncating='pre', padding='pre', maxlen=max_review_length)\n"
      ],
      "execution_count": null,
      "outputs": [
        {
          "output_type": "stream",
          "text": [
            "<string>:6: VisibleDeprecationWarning: Creating an ndarray from ragged nested sequences (which is a list-or-tuple of lists-or-tuples-or ndarrays with different lengths or shapes) is deprecated. If you meant to do this, you must specify 'dtype=object' when creating the ndarray\n",
            "/usr/local/lib/python3.7/dist-packages/keras/datasets/imdb.py:155: VisibleDeprecationWarning: Creating an ndarray from ragged nested sequences (which is a list-or-tuple of lists-or-tuples-or ndarrays with different lengths or shapes) is deprecated. If you meant to do this, you must specify 'dtype=object' when creating the ndarray\n",
            "  x_train, y_train = np.array(xs[:idx]), np.array(labels[:idx])\n",
            "/usr/local/lib/python3.7/dist-packages/keras/datasets/imdb.py:156: VisibleDeprecationWarning: Creating an ndarray from ragged nested sequences (which is a list-or-tuple of lists-or-tuples-or ndarrays with different lengths or shapes) is deprecated. If you meant to do this, you must specify 'dtype=object' when creating the ndarray\n",
            "  x_test, y_test = np.array(xs[idx:]), np.array(labels[idx:])\n"
          ],
          "name": "stderr"
        }
      ]
    },
    {
      "cell_type": "code",
      "metadata": {
        "id": "SA3-pUoQdja_"
      },
      "source": [
        "model = Sequential()\n",
        "embedding_length = 5\n",
        "max_words = 1000\n",
        "max_sentence_length = 10\n",
        "model.add(Embedding(max_words, embedding_length, input_length=max_sentence_length))"
      ],
      "execution_count": null,
      "outputs": []
    },
    {
      "cell_type": "code",
      "metadata": {
        "colab": {
          "base_uri": "https://localhost:8080/"
        },
        "id": "tYb_I4QAdt4b",
        "outputId": "ff424bf0-fd64-4b1e-bc25-d4f3ee9c8aa0"
      },
      "source": [
        "input_array = input_array = np.random.randint(max_words, size=(2, max_sentence_length)) #train_x[0]\n",
        "print(input_array, np.shape(input_array))"
      ],
      "execution_count": null,
      "outputs": [
        {
          "output_type": "stream",
          "text": [
            "[[440 467 939  55  56 958  93 210 581 529]\n",
            " [385 386 195 793 320 744  21 521 268 869]] (2, 10)\n"
          ],
          "name": "stdout"
        }
      ]
    },
    {
      "cell_type": "code",
      "metadata": {
        "colab": {
          "base_uri": "https://localhost:8080/"
        },
        "id": "tO1YkMQIdwL2",
        "outputId": "2d632c81-be6c-495b-f42c-b4ad27fd1aca"
      },
      "source": [
        "model.compile('rmsprop', 'mse')\n",
        "output_array = model.predict(input_array)\n",
        "#assert output_array.shape == (32, 10, 64)\n",
        "print(output_array, np.shape(output_array))"
      ],
      "execution_count": null,
      "outputs": [
        {
          "output_type": "stream",
          "text": [
            "[[[ 0.00823079  0.01248496 -0.01646018 -0.00269481 -0.01108527]\n",
            "  [ 0.04698429 -0.03933779 -0.04472926  0.01845967  0.00827593]\n",
            "  [-0.04515139 -0.03818123  0.04845938  0.00667255 -0.03044527]\n",
            "  [ 0.03008166  0.01625464 -0.01174265 -0.04172384 -0.02997736]\n",
            "  [ 0.03684118  0.04618182  0.02372007  0.03597099 -0.02333273]\n",
            "  [ 0.02102147  0.00428706 -0.0107574  -0.00835482 -0.00716909]\n",
            "  [ 0.04993251 -0.0029865  -0.00903111  0.03496924 -0.03935234]\n",
            "  [ 0.01276711 -0.02012783  0.02698398  0.04381147  0.01707866]\n",
            "  [-0.01636467 -0.03177331 -0.0375899  -0.00515259  0.04458929]\n",
            "  [ 0.04989732  0.03432142  0.01087135 -0.01380199 -0.00982915]]\n",
            "\n",
            " [[ 0.02176341  0.046186   -0.03126267  0.01847743  0.04988084]\n",
            "  [-0.04030739 -0.01701448 -0.04043832  0.00448008  0.00922952]\n",
            "  [ 0.00436815 -0.01289821  0.01689685 -0.03417309 -0.01270777]\n",
            "  [-0.0284971   0.01244831 -0.02068236 -0.03370514 -0.00427203]\n",
            "  [-0.00789305 -0.02827104 -0.03708944  0.0493309  -0.04429071]\n",
            "  [-0.03909666 -0.03976964  0.02762625 -0.00664041 -0.02564752]\n",
            "  [-0.00224047 -0.00778309  0.00191433 -0.04311566  0.03189845]\n",
            "  [ 0.00994758  0.02644551 -0.04692929 -0.0090198  -0.01987171]\n",
            "  [ 0.02180937 -0.0012111  -0.01606389 -0.0297551  -0.00686399]\n",
            "  [ 0.04000143 -0.04253243 -0.04924558  0.03253964 -0.0176792 ]]] (2, 10, 5)\n"
          ],
          "name": "stdout"
        }
      ]
    },
    {
      "cell_type": "code",
      "metadata": {
        "colab": {
          "base_uri": "https://localhost:8080/"
        },
        "id": "GKLEEK1-dyNc",
        "outputId": "8bfba4b4-f1c6-471b-9867-8ec329426acb"
      },
      "source": [
        "\"\"\"# One hot representation\"\"\"\n",
        "\n",
        "from keras.preprocessing.text import one_hot\n",
        "\n",
        "#define documents\n",
        "docs = ['glass of orange juice',\n",
        "        'bottle of mango juice',\n",
        "        'glass of mango shake',\n",
        "        'drink bottle of banana shake',\n",
        "        'I want a glass of cold water',\n",
        "        'The king and the queen',\n",
        "        'man and woman']\n",
        "\n",
        "vocab_size = 10000\n",
        "\n",
        "encoded_docs = [one_hot(d, vocab_size) for d in docs]\n",
        "print(encoded_docs)"
      ],
      "execution_count": null,
      "outputs": [
        {
          "output_type": "stream",
          "text": [
            "[[5668, 8828, 7301, 9960], [9677, 8828, 5248, 9960], [5668, 8828, 5248, 3949], [4491, 9677, 8828, 7681, 3949], [7322, 3784, 3330, 5668, 8828, 2297, 14], [4991, 8632, 5318, 4991, 6258], [1173, 5318, 8891]]\n"
          ],
          "name": "stdout"
        }
      ]
    },
    {
      "cell_type": "code",
      "metadata": {
        "colab": {
          "base_uri": "https://localhost:8080/"
        },
        "id": "42aV_uD1d2PS",
        "outputId": "2545ae80-4f86-4586-a722-8b6011a624dd"
      },
      "source": [
        "\"\"\"# Word Embeddings\"\"\"\n",
        "\n",
        "from keras.preprocessing.sequence import pad_sequences\n",
        "from keras.models import Sequential\n",
        "from keras.layers import Embedding, LSTM\n",
        "\n",
        "import numpy as np\n",
        "\n",
        "embedding_length = 5\n",
        "max_doc_len = 10\n",
        "\n",
        "encoded_docs = pad_sequences(encoded_docs, truncating='post', padding='post', maxlen=max_doc_len)\n",
        "\n",
        "print(encoded_docs)\n",
        "\n",
        "model = Sequential()\n",
        "\n",
        "model.add(Embedding(vocab_size, embedding_length, input_length=max_doc_len))\n",
        "model.add(LSTM(units=64))\n",
        "\n",
        "model.compile('rmsprop', 'mse')\n",
        "\n",
        "model.summary()\n",
        "\n",
        "output = model.predict(encoded_docs)\n",
        "print(output.shape)\n",
        "print(output)\n"
      ],
      "execution_count": null,
      "outputs": [
        {
          "output_type": "stream",
          "text": [
            "[[5668 8828 7301 9960    0    0    0    0    0    0]\n",
            " [9677 8828 5248 9960    0    0    0    0    0    0]\n",
            " [5668 8828 5248 3949    0    0    0    0    0    0]\n",
            " [4491 9677 8828 7681 3949    0    0    0    0    0]\n",
            " [7322 3784 3330 5668 8828 2297   14    0    0    0]\n",
            " [4991 8632 5318 4991 6258    0    0    0    0    0]\n",
            " [1173 5318 8891    0    0    0    0    0    0    0]]\n",
            "Model: \"sequential_1\"\n",
            "_________________________________________________________________\n",
            "Layer (type)                 Output Shape              Param #   \n",
            "=================================================================\n",
            "embedding_1 (Embedding)      (None, 10, 5)             50000     \n",
            "_________________________________________________________________\n",
            "lstm (LSTM)                  (None, 64)                17920     \n",
            "=================================================================\n",
            "Total params: 67,920\n",
            "Trainable params: 67,920\n",
            "Non-trainable params: 0\n",
            "_________________________________________________________________\n",
            "(7, 64)\n",
            "[[-3.93238151e-03 -3.78084928e-03 -3.21151270e-03 -6.02317508e-04\n",
            "  -3.23992991e-03  2.66992254e-04  8.00447632e-03 -1.51037599e-03\n",
            "   9.15286888e-04  1.01375172e-03 -7.95901287e-04 -2.03304086e-03\n",
            "   5.77552663e-03  3.29403090e-03 -1.39283738e-03  3.94353876e-04\n",
            "  -8.11023274e-05  7.24335201e-04 -2.76645552e-03 -4.30662045e-03\n",
            "   6.27542147e-03 -6.33355509e-03 -3.40089947e-03 -1.56456232e-03\n",
            "   3.79983638e-03 -5.10718999e-03  5.03804116e-03 -6.74639829e-03\n",
            "  -2.55569397e-03  9.76209703e-04  2.19690055e-03  3.34776531e-04\n",
            "   4.50554013e-04 -1.94349617e-03 -7.40835024e-03 -1.99521449e-03\n",
            "   7.69211957e-03  4.68285335e-03  6.01551437e-04  1.04222517e-03\n",
            "   3.87903536e-03  6.06331602e-03  2.28814688e-03 -3.06830416e-03\n",
            "   8.80332082e-04  7.37006683e-03 -3.01512191e-03  2.15067435e-03\n",
            "   2.79052369e-03  6.25943346e-03 -3.74827738e-04 -3.43020842e-03\n",
            "  -1.60971726e-03  5.69879659e-04  7.67331244e-03  5.11291297e-03\n",
            "  -1.77616125e-03 -7.78651750e-03 -1.21400738e-03  3.79789900e-03\n",
            "  -2.64281873e-03 -5.64377196e-03  2.63155880e-03  3.30865616e-03]\n",
            " [-4.14980715e-03 -3.37362895e-03 -2.83197337e-03  2.92986835e-04\n",
            "  -3.72143160e-03  1.09483626e-04  8.37356318e-03 -2.41449615e-03\n",
            "   9.08125774e-04  2.03637435e-04 -1.05680944e-03 -2.03254027e-03\n",
            "   6.00580592e-03  3.98809975e-03 -1.83380616e-03  8.76168779e-04\n",
            "  -6.72188389e-06  9.53257550e-04 -2.00864789e-03 -4.45643906e-03\n",
            "   5.89859020e-03 -6.43198472e-03 -3.41844745e-03 -1.04098313e-03\n",
            "   3.42565216e-03 -5.71647100e-03  4.95793950e-03 -6.26987079e-03\n",
            "  -2.59075034e-03  2.82902940e-04  2.36932002e-03  3.97651253e-04\n",
            "   6.57963683e-04 -1.88543275e-03 -6.89945091e-03 -1.58881105e-03\n",
            "   6.67302357e-03  4.76890896e-03  5.22224582e-04  5.76658000e-04\n",
            "   3.77290533e-03  5.93607593e-03  2.02950626e-03 -2.79621826e-03\n",
            "  -1.76286048e-04  6.08385354e-03 -3.70209035e-03  1.75270345e-03\n",
            "   1.35515665e-03  6.61270041e-03 -1.54893351e-04 -2.98396335e-03\n",
            "  -1.06388459e-03  6.57129276e-04  6.64447807e-03  4.68112109e-03\n",
            "  -2.22824700e-03 -7.78005738e-03 -1.72044919e-03  3.80348996e-03\n",
            "  -2.06971774e-03 -6.24638703e-03  2.99173826e-03  3.21110850e-03]\n",
            " [-4.02923720e-03 -3.08282953e-03 -2.64188857e-03 -1.79058970e-05\n",
            "  -3.25470325e-03  1.27273393e-04  8.03366955e-03 -2.06172559e-03\n",
            "   8.69612442e-04  2.92064447e-04 -1.02042814e-03 -1.81556307e-03\n",
            "   5.53354574e-03  3.50216823e-03 -1.71841856e-03  9.19179583e-04\n",
            "   2.98935338e-04  7.69106206e-04 -1.98257482e-03 -4.55589965e-03\n",
            "   5.49789798e-03 -5.89948148e-03 -3.12288571e-03 -1.12715305e-03\n",
            "   3.35126044e-03 -5.26289688e-03  4.74938191e-03 -5.96470712e-03\n",
            "  -2.53522443e-03  3.10838717e-04  2.34674965e-03  4.27644991e-04\n",
            "   6.14440127e-04 -1.67447177e-03 -6.90788729e-03 -1.46955240e-03\n",
            "   6.78384816e-03  4.44206083e-03  4.90332488e-04  5.18554065e-04\n",
            "   3.54014244e-03  5.85594121e-03  1.92776613e-03 -2.79910886e-03\n",
            "   2.25630109e-04  6.20531524e-03 -3.53934453e-03  1.93645025e-03\n",
            "   1.55740150e-03  6.14483329e-03  5.70176271e-05 -2.97386036e-03\n",
            "  -9.65248910e-04  3.90534755e-04  6.64906716e-03  4.61546611e-03\n",
            "  -1.86631130e-03 -7.45030027e-03 -1.49899966e-03  3.64304055e-03\n",
            "  -2.38009775e-03 -6.01103436e-03  2.91238469e-03  3.23761627e-03]\n",
            " [-3.93493474e-03 -2.50013359e-03 -1.93662290e-03  7.55646397e-05\n",
            "  -2.80219316e-03  5.35214531e-05  7.67706521e-03 -1.95837300e-03\n",
            "   5.21288835e-04  1.61802614e-04 -8.46123905e-04 -1.38705806e-03\n",
            "   4.86152060e-03  3.28104245e-03 -2.01831711e-03  1.63398660e-03\n",
            "   1.29365013e-03  6.78019191e-04 -1.18860463e-03 -5.24830678e-03\n",
            "   4.21128515e-03 -5.06833009e-03 -2.77223764e-03 -1.26674445e-03\n",
            "   2.70390231e-03 -4.54786653e-03  4.28591017e-03 -5.07818023e-03\n",
            "  -2.82009318e-03 -1.95038723e-04  2.42440426e-03  5.91535412e-04\n",
            "   5.56968676e-04 -1.30756455e-03 -6.75215665e-03 -8.14699626e-04\n",
            "   5.87483495e-03  3.82006471e-03 -1.19730932e-04  1.41698096e-04\n",
            "   2.60557304e-03  5.50484937e-03  1.79606047e-03 -2.89092213e-03\n",
            "   3.95150855e-04  5.81104914e-03 -3.66491312e-03  2.17689923e-03\n",
            "   6.39123202e-04  5.70952147e-03  9.84173967e-04 -2.34687445e-03\n",
            "  -5.73047495e-04 -5.25800388e-05  6.24512462e-03  4.16771742e-03\n",
            "  -1.43086980e-03 -6.77477149e-03 -1.80461828e-03  3.38469748e-03\n",
            "  -2.59217736e-03 -6.43007178e-03  3.21089989e-03  3.45713343e-03]\n",
            " [-3.02797277e-03 -1.62452215e-03 -2.78584869e-03 -5.32736536e-04\n",
            "  -2.91078747e-03 -3.79650824e-04  5.11223171e-03 -3.03747482e-04\n",
            "   1.21357513e-03 -1.02279952e-03 -2.82722176e-03 -2.12032720e-03\n",
            "   4.67247609e-03  1.91956747e-03 -8.18509667e-04 -6.22132939e-05\n",
            "  -1.55350089e-03 -1.37191411e-04 -3.49490973e-03 -2.09252723e-03\n",
            "   6.15720823e-03 -5.11640171e-03 -1.69951445e-03 -1.02473900e-03\n",
            "   3.19608161e-03 -5.02013182e-03  5.86877484e-03 -3.98495328e-03\n",
            "  -1.01205881e-03  1.90091110e-03  3.39030684e-03 -2.05333531e-03\n",
            "  -1.09712069e-04 -1.89462304e-03 -4.94415546e-03 -1.78972515e-03\n",
            "   6.84942724e-03  5.61777316e-03  1.98589009e-03  7.92542996e-05\n",
            "   3.69744468e-03  6.20248215e-03  1.86599704e-04 -1.27646420e-03\n",
            "  -8.92308366e-04  3.17550637e-03 -2.17804150e-03  7.19991047e-04\n",
            "   3.37960897e-03  4.36465442e-03 -8.18707864e-04 -2.29718210e-03\n",
            "  -9.25413857e-04  1.56766770e-03  5.48704993e-03  5.04367612e-03\n",
            "  -2.40806537e-03 -5.66703593e-03  7.09110929e-04  4.29214025e-03\n",
            "  -1.49332848e-03 -3.33705312e-03  1.81464991e-03  2.25803489e-03]\n",
            " [-4.11226507e-03 -3.05434200e-03 -3.35106184e-03 -5.33026003e-04\n",
            "  -3.31716775e-03  1.07592517e-04  7.38438172e-03 -1.79176347e-03\n",
            "   8.54788988e-04  9.00585204e-04 -1.66128553e-03 -2.46286113e-03\n",
            "   5.40958997e-03  2.89938739e-03 -1.50154356e-03  7.47039914e-04\n",
            "  -6.82054262e-04  7.33531124e-05 -2.84936395e-03 -3.60442419e-03\n",
            "   5.51763177e-03 -6.17745658e-03 -2.60102144e-03 -1.35842990e-03\n",
            "   3.88531084e-03 -4.82292986e-03  5.56942215e-03 -5.47179626e-03\n",
            "  -1.77684450e-03  1.64194824e-03  2.28167046e-03 -3.66554959e-05\n",
            "   1.59462419e-04 -1.68059568e-03 -6.66664029e-03 -1.17232825e-03\n",
            "   7.18750851e-03  5.33010438e-03  8.72214732e-04  6.70881360e-04\n",
            "   3.81960603e-03  6.51984336e-03  2.01733597e-03 -2.06233445e-03\n",
            "   5.39590663e-04  5.61182573e-03 -3.24918190e-03  2.29792134e-03\n",
            "   2.64053117e-03  5.62868128e-03 -8.62151137e-05 -2.45904038e-03\n",
            "  -1.57549838e-03  9.80269979e-04  6.92286948e-03  5.33848396e-03\n",
            "  -2.03865394e-03 -7.25091482e-03 -2.86995724e-04  4.13143681e-03\n",
            "  -2.32114457e-03 -5.50495228e-03  2.73478334e-03  2.51116906e-03]\n",
            " [-3.76143306e-03 -4.46697325e-03 -3.61829135e-03 -5.99423132e-04\n",
            "  -3.58105125e-03  2.86589231e-04  8.19387473e-03 -1.47021527e-03\n",
            "   1.02617347e-03  1.09718903e-03 -6.72406575e-04 -2.28819950e-03\n",
            "   6.35041669e-03  3.54411080e-03 -1.17692060e-03 -1.98194743e-04\n",
            "  -5.90523414e-04  1.02390675e-03 -3.32312728e-03 -4.00283281e-03\n",
            "   7.24333292e-03 -7.05501763e-03 -3.89991701e-03 -1.39652588e-03\n",
            "   4.21388168e-03 -5.57283871e-03  5.24589140e-03 -7.50375539e-03\n",
            "  -2.45410413e-03  1.14076200e-03  2.11907318e-03  1.90728009e-04\n",
            "   5.09432517e-04 -2.27355002e-03 -7.54230004e-03 -2.74385884e-03\n",
            "   8.12194869e-03  5.13106305e-03  8.28087213e-04  1.48119847e-03\n",
            "   4.46301233e-03  6.11664215e-03  2.39980360e-03 -3.29068978e-03\n",
            "   7.86080374e-04  7.88027700e-03 -2.71597691e-03  1.96984457e-03\n",
            "   3.40406527e-03  6.75222836e-03 -1.10005774e-03 -4.07170830e-03\n",
            "  -2.03857431e-03  8.27912649e-04  7.96806533e-03  5.30815870e-03\n",
            "  -2.19033216e-03 -8.16372968e-03 -1.29017350e-03  3.85253131e-03\n",
            "  -2.40412331e-03 -5.45287272e-03  2.44561327e-03  3.23257037e-03]]\n"
          ],
          "name": "stdout"
        }
      ]
    },
    {
      "cell_type": "code",
      "metadata": {
        "colab": {
          "base_uri": "https://localhost:8080/"
        },
        "id": "5x9pE8Jed7Ha",
        "outputId": "1aba93ec-e758-43e6-a412-8e88f10daeee"
      },
      "source": [
        "\"\"\"##Putting it together\n",
        "#Sentiment Analysis in Keras\n",
        "\n",
        "Import libraries and dataset\n",
        "\"\"\"\n",
        "\n",
        "import keras\n",
        "from keras.preprocessing import sequence\n",
        "from keras.models import Sequential\n",
        "from keras.layers import Dense, Embedding\n",
        "from keras.layers import LSTM\n",
        "from keras.datasets import imdb\n",
        "\n",
        "max_words = 20000\n",
        "print('Loading data...')\n",
        "(x_train, y_train), (x_test, y_test) = imdb.load_data(num_words=max_words)\n",
        "print(len(x_train), 'train sequences')\n",
        "print(len(x_test), 'test sequences')"
      ],
      "execution_count": null,
      "outputs": [
        {
          "output_type": "stream",
          "text": [
            "Loading data...\n"
          ],
          "name": "stdout"
        },
        {
          "output_type": "stream",
          "text": [
            "<string>:6: VisibleDeprecationWarning: Creating an ndarray from ragged nested sequences (which is a list-or-tuple of lists-or-tuples-or ndarrays with different lengths or shapes) is deprecated. If you meant to do this, you must specify 'dtype=object' when creating the ndarray\n",
            "/usr/local/lib/python3.7/dist-packages/keras/datasets/imdb.py:155: VisibleDeprecationWarning: Creating an ndarray from ragged nested sequences (which is a list-or-tuple of lists-or-tuples-or ndarrays with different lengths or shapes) is deprecated. If you meant to do this, you must specify 'dtype=object' when creating the ndarray\n",
            "  x_train, y_train = np.array(xs[:idx]), np.array(labels[:idx])\n"
          ],
          "name": "stderr"
        },
        {
          "output_type": "stream",
          "text": [
            "25000 train sequences\n",
            "25000 test sequences\n"
          ],
          "name": "stdout"
        },
        {
          "output_type": "stream",
          "text": [
            "/usr/local/lib/python3.7/dist-packages/keras/datasets/imdb.py:156: VisibleDeprecationWarning: Creating an ndarray from ragged nested sequences (which is a list-or-tuple of lists-or-tuples-or ndarrays with different lengths or shapes) is deprecated. If you meant to do this, you must specify 'dtype=object' when creating the ndarray\n",
            "  x_test, y_test = np.array(xs[idx:]), np.array(labels[idx:])\n"
          ],
          "name": "stderr"
        }
      ]
    },
    {
      "cell_type": "code",
      "metadata": {
        "colab": {
          "base_uri": "https://localhost:8080/"
        },
        "id": "_o6BVQNEeObp",
        "outputId": "a94e391d-8d2f-4e22-94a2-7cae97063e12"
      },
      "source": [
        "\"\"\"Pre-processing\"\"\"\n",
        "\n",
        "# cut texts after this number of words (among top max_features most common words)\n",
        "max_review_length = 80\n",
        "\n",
        "x_train = sequence.pad_sequences(x_train, truncating='pre', padding='pre', maxlen=max_review_length)\n",
        "x_test = sequence.pad_sequences(x_test, truncating='pre', padding='pre', maxlen=max_review_length)\n",
        "\n",
        "print('x_train shape:', x_train.shape)\n",
        "print('x_test shape:', x_test.shape)\n",
        "\n"
      ],
      "execution_count": null,
      "outputs": [
        {
          "output_type": "stream",
          "text": [
            "x_train shape: (25000, 80)\n",
            "x_test shape: (25000, 80)\n"
          ],
          "name": "stdout"
        }
      ]
    },
    {
      "cell_type": "code",
      "metadata": {
        "colab": {
          "base_uri": "https://localhost:8080/"
        },
        "id": "zD9XWeBWeYV-",
        "outputId": "8109ed5a-c1eb-40d0-b890-e5a24b0a8008"
      },
      "source": [
        "\"\"\"Build the model\"\"\"\n",
        "\n",
        "print('Build model...')\n",
        "embedding_length = 64\n",
        "model = Sequential()\n",
        "model.add(Embedding(input_dim=max_words, output_dim=embedding_length, input_length=max_review_length))\n",
        "model.add(LSTM(units=64, input_shape=(max_review_length, embedding_length), return_sequences=True, unroll=True))\n",
        "model.add(LSTM(units=32))\n",
        "model.add(Dense(1, activation='sigmoid'))\n",
        "\n",
        "# try using different optimizers and different optimizer configs\n",
        "model.compile(loss='binary_crossentropy',\n",
        "              optimizer='adam',\n",
        "              metrics=['accuracy'])"
      ],
      "execution_count": null,
      "outputs": [
        {
          "output_type": "stream",
          "text": [
            "Build model...\n"
          ],
          "name": "stdout"
        }
      ]
    },
    {
      "cell_type": "code",
      "metadata": {
        "colab": {
          "base_uri": "https://localhost:8080/"
        },
        "id": "KqCQAM5LecJK",
        "outputId": "dc5fbc3b-b015-441d-97b9-154ab65cdcbd"
      },
      "source": [
        "\"\"\"Visualize the model\"\"\"\n",
        "\n",
        "#Visualize\n",
        "model.summary()\n"
      ],
      "execution_count": null,
      "outputs": [
        {
          "output_type": "stream",
          "text": [
            "Model: \"sequential_2\"\n",
            "_________________________________________________________________\n",
            "Layer (type)                 Output Shape              Param #   \n",
            "=================================================================\n",
            "embedding_2 (Embedding)      (None, 80, 64)            1280000   \n",
            "_________________________________________________________________\n",
            "lstm_1 (LSTM)                (None, 80, 64)            33024     \n",
            "_________________________________________________________________\n",
            "lstm_2 (LSTM)                (None, 32)                12416     \n",
            "_________________________________________________________________\n",
            "dense (Dense)                (None, 1)                 33        \n",
            "=================================================================\n",
            "Total params: 1,325,473\n",
            "Trainable params: 1,325,473\n",
            "Non-trainable params: 0\n",
            "_________________________________________________________________\n"
          ],
          "name": "stdout"
        }
      ]
    },
    {
      "cell_type": "code",
      "metadata": {
        "colab": {
          "base_uri": "https://localhost:8080/"
        },
        "id": "NiBt3fD5egk0",
        "outputId": "92bf7557-0144-41f8-fcae-8908418a2e12"
      },
      "source": [
        "\"\"\"Train the model\"\"\"\n",
        "\n",
        "print('Training...')\n",
        "batch_size = 32\n",
        "\n",
        "model.fit(x_train, y_train,\n",
        "          batch_size = batch_size,\n",
        "          epochs=5,\n",
        "          validation_data = (x_test, y_test))"
      ],
      "execution_count": null,
      "outputs": [
        {
          "output_type": "stream",
          "text": [
            "Training...\n",
            "Epoch 1/5\n",
            "782/782 [==============================] - 130s 113ms/step - loss: 0.5052 - accuracy: 0.7303 - val_loss: 0.3787 - val_accuracy: 0.8322\n",
            "Epoch 2/5\n",
            "782/782 [==============================] - 78s 100ms/step - loss: 0.2339 - accuracy: 0.9108 - val_loss: 0.3781 - val_accuracy: 0.8344\n",
            "Epoch 3/5\n",
            "782/782 [==============================] - 78s 100ms/step - loss: 0.1388 - accuracy: 0.9506 - val_loss: 0.4760 - val_accuracy: 0.8218\n",
            "Epoch 4/5\n",
            "782/782 [==============================] - 78s 99ms/step - loss: 0.0814 - accuracy: 0.9715 - val_loss: 0.6053 - val_accuracy: 0.8185\n",
            "Epoch 5/5\n",
            "782/782 [==============================] - 78s 100ms/step - loss: 0.0513 - accuracy: 0.9840 - val_loss: 0.6866 - val_accuracy: 0.8136\n"
          ],
          "name": "stdout"
        },
        {
          "output_type": "execute_result",
          "data": {
            "text/plain": [
              "<keras.callbacks.History at 0x7fdceb4ae410>"
            ]
          },
          "metadata": {
            "tags": []
          },
          "execution_count": 12
        }
      ]
    },
    {
      "cell_type": "code",
      "metadata": {
        "colab": {
          "base_uri": "https://localhost:8080/"
        },
        "id": "gizlUb0ye8Ki",
        "outputId": "0785552c-961f-4828-82f7-93ae5dde5bb9"
      },
      "source": [
        "\"\"\"Evaluate the model\"\"\"\n",
        "\n",
        "score, acc = model.evaluate(x_test, y_test, batch_size=batch_size)\n",
        "print(f'Test score = {score}')\n",
        "print(f'Test accuracy = {acc}')"
      ],
      "execution_count": null,
      "outputs": [
        {
          "output_type": "stream",
          "text": [
            "782/782 [==============================] - 17s 21ms/step - loss: 0.6866 - accuracy: 0.8136\n",
            "Test score = 0.6865746974945068\n",
            "Test accuracy = 0.8135600090026855\n"
          ],
          "name": "stdout"
        }
      ]
    },
    {
      "cell_type": "code",
      "metadata": {
        "colab": {
          "base_uri": "https://localhost:8080/"
        },
        "id": "ObW7XW0cmcV_",
        "outputId": "bb5a5cab-361a-438d-9e49-0de2239b06b4"
      },
      "source": [
        "\"\"\" Making predicitions with model \"\"\"\n",
        "review = \"The movie was super cool\"\n",
        "\n",
        "print(f\"New review = {review} \")\n",
        "\n",
        "d= imdb.get_word_index()\n",
        "words = review.split()\n",
        "review = []\n",
        "\n",
        "for word in words:\n",
        "  word = word.lower()\n",
        "  if word not in d:\n",
        "    review.append(2)\n",
        "  else:\n",
        "    review.append(d[word] + 3)\n",
        "\n",
        "print(f\"review = {review}\")\n",
        "\n",
        "review = sequence.pad_sequences([review], truncating='pre', padding='pre', maxlen=80)\n",
        "\n",
        "prediction = model.predict(review)\n",
        "\n",
        "print(f'Prediction (0= Negative, 1 = positive) = {prediction}')\n",
        "\n"
      ],
      "execution_count": null,
      "outputs": [
        {
          "output_type": "stream",
          "text": [
            "New review = The movie was super cool \n",
            "review = [4, 20, 16, 1165, 646]\n",
            "Prediction (0= Negative, 1 = positive) = [[0.86981547]]\n"
          ],
          "name": "stdout"
        }
      ]
    },
    {
      "cell_type": "code",
      "metadata": {
        "id": "KW5y7EB-pAkP"
      },
      "source": [
        ""
      ],
      "execution_count": null,
      "outputs": []
    }
  ]
}